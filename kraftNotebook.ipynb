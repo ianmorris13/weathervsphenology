{
 "cells": [
  {
   "cell_type": "code",
   "execution_count": 2,
   "id": "311bb4d5",
   "metadata": {},
   "outputs": [],
   "source": [
    "import pandas as pd\n",
    "import os\n",
    "from plotly import express as px\n",
    "import plotly.graph_objects as go\n",
    "import numpy as np"
   ]
  },
  {
   "cell_type": "code",
   "execution_count": null,
   "id": "dbc61d5d",
   "metadata": {},
   "outputs": [],
   "source": [
    "directory = './data/weather/'\n",
    "\n",
    "#empty dictionary ready to be filled up\n",
    "d = {}\n",
    "    \n",
    "# iterate over files in this directory, add each name of file and its contents into a dictionary\n",
    "for filename in os.listdir(directory):\n",
    "        d[filename] = pd.read_csv(f'./data/weather/{filename}', encoding= 'unicode_escape')"
   ]
  }
 ],
 "metadata": {
  "kernelspec": {
   "display_name": "Python 3.9.7 ('base')",
   "language": "python",
   "name": "python397jvsc74a57bd040d3a090f54c6569ab1632332b64b2c03c39dcf918b08424e98f38b5ae0af88f"
  },
  "language_info": {
   "codemirror_mode": {
    "name": "ipython",
    "version": 3
   },
   "file_extension": ".py",
   "mimetype": "text/x-python",
   "name": "python",
   "nbconvert_exporter": "python",
   "pygments_lexer": "ipython3",
   "version": "3.9.7"
  }
 },
 "nbformat": 4,
 "nbformat_minor": 5
}
